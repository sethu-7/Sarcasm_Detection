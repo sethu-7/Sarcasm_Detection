{
  "cells": [
    {
      "cell_type": "markdown",
      "metadata": {
        "id": "view-in-github",
        "colab_type": "text"
      },
      "source": [
        "<a href=\"https://colab.research.google.com/github/sethu-7/Sarcasm_Detection/blob/main/Sarcasm_Detction_Roberta_final.ipynb\" target=\"_parent\"><img src=\"https://colab.research.google.com/assets/colab-badge.svg\" alt=\"Open In Colab\"/></a>"
      ]
    },
    {
      "cell_type": "code",
      "execution_count": null,
      "metadata": {
        "colab": {
          "base_uri": "https://localhost:8080/"
        },
        "id": "5lJKV-Ql9KNS",
        "outputId": "4e9730c7-255c-4a98-fe42-94a5129c82ed"
      },
      "outputs": [
        {
          "output_type": "stream",
          "name": "stdout",
          "text": [
            "Mounted at /content/drive\n"
          ]
        }
      ],
      "source": [
        "from google.colab import drive\n",
        "drive.mount('/content/drive')"
      ]
    },
    {
      "cell_type": "code",
      "execution_count": null,
      "metadata": {
        "colab": {
          "base_uri": "https://localhost:8080/"
        },
        "id": "RBa6lCMyfjuX",
        "outputId": "315a0176-425f-4a92-8d16-37e9c1b24e54"
      },
      "outputs": [
        {
          "output_type": "stream",
          "name": "stderr",
          "text": [
            "[nltk_data] Downloading package omw-1.4 to /root/nltk_data...\n",
            "[nltk_data] Downloading package stopwords to /root/nltk_data...\n",
            "[nltk_data]   Unzipping corpora/stopwords.zip.\n",
            "[nltk_data] Downloading package wordnet to /root/nltk_data...\n"
          ]
        }
      ],
      "source": [
        "import pandas as pd\n",
        "import numpy as np\n",
        "import os\n",
        "import matplotlib\n",
        "import matplotlib.pyplot as plt\n",
        "plt.style.use('ggplot')\n",
        "import seaborn as sns\n",
        "sns.set(style='whitegrid')\n",
        "import nltk\n",
        "nltk.download('omw-1.4')\n",
        "# generics\n",
        "import pandas as pd\n",
        "import numpy as np\n",
        "import random\n",
        "\n",
        "# visu\n",
        "import seaborn as sns\n",
        "import matplotlib.pyplot as plt\n",
        "import networkx as nx\n",
        "# import krono\n",
        "\n",
        "# texts\n",
        "import re\n",
        "import unicodedata\n",
        "from tensorflow.keras.preprocessing.text import Tokenizer\n",
        "from tensorflow.keras.preprocessing.sequence import pad_sequences\n",
        "from tensorflow.keras.utils import to_categorical, plot_model\n",
        "\n",
        "# Model\n",
        "from tensorflow.keras import layers, Sequential\n",
        "from tensorflow.keras.callbacks import EarlyStopping\n",
        "\n",
        "# NLTK\n",
        "import nltk\n",
        "nltk.download('stopwords')\n",
        "from nltk.corpus import stopwords\n",
        "nltk.download('wordnet')\n",
        "from nltk.stem import WordNetLemmatizer\n",
        "from sklearn.feature_extraction.text import CountVectorizer, TfidfVectorizer\n",
        "from sklearn.model_selection import train_test_split\n",
        "from sklearn.decomposition import PCA, TruncatedSVD\n",
        "from sklearn.metrics import classification_report,confusion_matrix\n",
        "from sklearn.metrics import accuracy_score\n",
        "from sklearn.metrics import roc_auc_score\n",
        "from sklearn.metrics import classification_report\n",
        "from sklearn.metrics import confusion_matrix\n",
        "from sklearn.metrics import roc_curve\n",
        "from sklearn.metrics import auc\n",
        "from sklearn import metrics\n",
        "\n",
        "from collections import defaultdict\n",
        "from collections import Counter\n",
        "\n",
        "import re\n",
        "import gensim\n",
        "import string\n",
        "\n",
        "from tqdm import tqdm\n",
        "from keras.preprocessing.text import Tokenizer\n",
        "#from keras.preprocessing.sequence import pad_sequences\n",
        "from tensorflow.keras.preprocessing.sequence import pad_sequences\n",
        "\n",
        "from keras.models import Sequential\n",
        "from keras.layers import Embedding, LSTM,Dense, SpatialDropout1D, Dropout\n",
        "from keras.initializers import Constant\n",
        "from tensorflow.keras.layers import Input, Dropout, Dense\n",
        "from tensorflow.keras.models import Model\n",
        "from tensorflow.keras.optimizers import Adam\n",
        "from tensorflow.keras.optimizers import AdamW\n",
        "from tensorflow.keras.callbacks import EarlyStopping\n",
        "from tensorflow.keras.initializers import TruncatedNormal\n",
        "from tensorflow.keras.losses import CategoricalCrossentropy\n",
        "from tensorflow.keras.metrics import CategoricalAccuracy\n",
        "from tensorflow.keras.utils import to_categorical\n",
        "from sklearn.model_selection import cross_val_score\n",
        "from sklearn.model_selection import train_test_split\n",
        "from sklearn.model_selection import cross_validate\n",
        "from transformers import TFBertModel,  BertConfig, BertTokenizerFast\n",
        "from tensorflow.keras.optimizers import AdamW\n",
        "from tensorflow.keras.models import Sequential\n",
        "from tensorflow.keras.layers import Activation, Dense, MaxPool2D, Conv2D, Flatten\n",
        "from tensorflow.keras.metrics import categorical_crossentropy\n",
        "from tensorflow.keras.callbacks import EarlyStopping\n",
        "from sklearn.metrics import accuracy_score\n",
        "from sklearn.metrics import roc_auc_score\n",
        "from sklearn.metrics import classification_report\n",
        "from sklearn.metrics import confusion_matrix\n",
        "from sklearn.metrics import roc_curve\n",
        "from sklearn.metrics import auc\n",
        "from sklearn import metrics\n",
        "\n",
        "\n",
        "\n",
        "import pandas as pd\n",
        "from sklearn.model_selection import train_test_split\n",
        "import tensorflow as tf\n",
        "import warnings\n",
        "warnings.simplefilter('ignore')"
      ]
    },
    {
      "cell_type": "code",
      "execution_count": null,
      "metadata": {
        "colab": {
          "base_uri": "https://localhost:8080/",
          "height": 36
        },
        "id": "wtBLZZaZPTfl",
        "outputId": "372e5512-9eb1-42ef-fb70-594783381572"
      },
      "outputs": [
        {
          "output_type": "execute_result",
          "data": {
            "text/plain": [
              "'2.15.0'"
            ],
            "application/vnd.google.colaboratory.intrinsic+json": {
              "type": "string"
            }
          },
          "metadata": {},
          "execution_count": 3
        }
      ],
      "source": [
        "import tensorflow as tf\n",
        "\n",
        "tf.__version__\n"
      ]
    },
    {
      "cell_type": "code",
      "execution_count": null,
      "metadata": {
        "colab": {
          "base_uri": "https://localhost:8080/"
        },
        "id": "MDgr_EvLPWl4",
        "outputId": "b1adfb2e-0cd9-4f73-fabd-cd316acd8f31"
      },
      "outputs": [
        {
          "output_type": "stream",
          "name": "stdout",
          "text": [
            "GPU not available\n"
          ]
        }
      ],
      "source": [
        "print(\"GPU\", \"available (Yess!!)\" if tf.config.list_physical_devices(\"GPU\") else \"not available\")"
      ]
    },
    {
      "cell_type": "code",
      "execution_count": null,
      "metadata": {
        "colab": {
          "base_uri": "https://localhost:8080/",
          "height": 423
        },
        "id": "p_FAaK3j9A6Q",
        "outputId": "e0aa482f-4bfd-40f5-b005-4ed19b0f1e2e"
      },
      "outputs": [
        {
          "data": {
            "application/vnd.google.colaboratory.intrinsic+json": {
              "summary": "{\n  \"name\": \"df\",\n  \"rows\": 47611,\n  \"fields\": [\n    {\n      \"column\": \"tweet\",\n      \"properties\": {\n        \"dtype\": \"string\",\n        \"num_unique_values\": 47556,\n        \"samples\": [\n          \"I had a horrible day\",\n          \"nox is also a homewrecker and tried to claim my childhood crush, whom i saw first, as their husband #sarcasm http://t.co/l3ZzL9Mo5P\",\n          \"@boring_as_heck That's called baseball played the \\\"right way\\\" #sarcasm\"\n        ],\n        \"semantic_type\": \"\",\n        \"description\": \"\"\n      }\n    },\n    {\n      \"column\": \"sarcastic\",\n      \"properties\": {\n        \"dtype\": \"number\",\n        \"std\": 0,\n        \"min\": 0,\n        \"max\": 1,\n        \"num_unique_values\": 2,\n        \"samples\": [\n          0,\n          1\n        ],\n        \"semantic_type\": \"\",\n        \"description\": \"\"\n      }\n    }\n  ]\n}",
              "type": "dataframe",
              "variable_name": "df"
            },
            "text/html": [
              "\n",
              "  <div id=\"df-8298b4a2-b225-45f8-b4f7-db6533268680\" class=\"colab-df-container\">\n",
              "    <div>\n",
              "<style scoped>\n",
              "    .dataframe tbody tr th:only-of-type {\n",
              "        vertical-align: middle;\n",
              "    }\n",
              "\n",
              "    .dataframe tbody tr th {\n",
              "        vertical-align: top;\n",
              "    }\n",
              "\n",
              "    .dataframe thead th {\n",
              "        text-align: right;\n",
              "    }\n",
              "</style>\n",
              "<table border=\"1\" class=\"dataframe\">\n",
              "  <thead>\n",
              "    <tr style=\"text-align: right;\">\n",
              "      <th></th>\n",
              "      <th>tweet</th>\n",
              "      <th>sarcastic</th>\n",
              "    </tr>\n",
              "  </thead>\n",
              "  <tbody>\n",
              "    <tr>\n",
              "      <th>0</th>\n",
              "      <td>The only thing I got from college is a caffein...</td>\n",
              "      <td>1</td>\n",
              "    </tr>\n",
              "    <tr>\n",
              "      <th>1</th>\n",
              "      <td>I love it when professors draw a big question ...</td>\n",
              "      <td>1</td>\n",
              "    </tr>\n",
              "    <tr>\n",
              "      <th>2</th>\n",
              "      <td>Remember the hundred emails from companies whe...</td>\n",
              "      <td>1</td>\n",
              "    </tr>\n",
              "    <tr>\n",
              "      <th>3</th>\n",
              "      <td>Today my pop-pop told me I was not “forced” to...</td>\n",
              "      <td>1</td>\n",
              "    </tr>\n",
              "    <tr>\n",
              "      <th>4</th>\n",
              "      <td>@VolphanCarol @littlewhitty @mysticalmanatee I...</td>\n",
              "      <td>1</td>\n",
              "    </tr>\n",
              "    <tr>\n",
              "      <th>...</th>\n",
              "      <td>...</td>\n",
              "      <td>...</td>\n",
              "    </tr>\n",
              "    <tr>\n",
              "      <th>47606</th>\n",
              "      <td>Jeff Atwood: Learning to code is overrated htt...</td>\n",
              "      <td>0</td>\n",
              "    </tr>\n",
              "    <tr>\n",
              "      <th>47607</th>\n",
              "      <td>Iraq defends intelligence sharing with Russia,...</td>\n",
              "      <td>0</td>\n",
              "    </tr>\n",
              "    <tr>\n",
              "      <th>47608</th>\n",
              "      <td>#Lab15 session on the role of #AI #data #machi...</td>\n",
              "      <td>0</td>\n",
              "    </tr>\n",
              "    <tr>\n",
              "      <th>47609</th>\n",
              "      <td>#DragonsDen #FunPalace last school #workshop t...</td>\n",
              "      <td>0</td>\n",
              "    </tr>\n",
              "    <tr>\n",
              "      <th>47610</th>\n",
              "      <td>Moi University ordered to close law school htt...</td>\n",
              "      <td>0</td>\n",
              "    </tr>\n",
              "  </tbody>\n",
              "</table>\n",
              "<p>47611 rows × 2 columns</p>\n",
              "</div>\n",
              "    <div class=\"colab-df-buttons\">\n",
              "\n",
              "  <div class=\"colab-df-container\">\n",
              "    <button class=\"colab-df-convert\" onclick=\"convertToInteractive('df-8298b4a2-b225-45f8-b4f7-db6533268680')\"\n",
              "            title=\"Convert this dataframe to an interactive table.\"\n",
              "            style=\"display:none;\">\n",
              "\n",
              "  <svg xmlns=\"http://www.w3.org/2000/svg\" height=\"24px\" viewBox=\"0 -960 960 960\">\n",
              "    <path d=\"M120-120v-720h720v720H120Zm60-500h600v-160H180v160Zm220 220h160v-160H400v160Zm0 220h160v-160H400v160ZM180-400h160v-160H180v160Zm440 0h160v-160H620v160ZM180-180h160v-160H180v160Zm440 0h160v-160H620v160Z\"/>\n",
              "  </svg>\n",
              "    </button>\n",
              "\n",
              "  <style>\n",
              "    .colab-df-container {\n",
              "      display:flex;\n",
              "      gap: 12px;\n",
              "    }\n",
              "\n",
              "    .colab-df-convert {\n",
              "      background-color: #E8F0FE;\n",
              "      border: none;\n",
              "      border-radius: 50%;\n",
              "      cursor: pointer;\n",
              "      display: none;\n",
              "      fill: #1967D2;\n",
              "      height: 32px;\n",
              "      padding: 0 0 0 0;\n",
              "      width: 32px;\n",
              "    }\n",
              "\n",
              "    .colab-df-convert:hover {\n",
              "      background-color: #E2EBFA;\n",
              "      box-shadow: 0px 1px 2px rgba(60, 64, 67, 0.3), 0px 1px 3px 1px rgba(60, 64, 67, 0.15);\n",
              "      fill: #174EA6;\n",
              "    }\n",
              "\n",
              "    .colab-df-buttons div {\n",
              "      margin-bottom: 4px;\n",
              "    }\n",
              "\n",
              "    [theme=dark] .colab-df-convert {\n",
              "      background-color: #3B4455;\n",
              "      fill: #D2E3FC;\n",
              "    }\n",
              "\n",
              "    [theme=dark] .colab-df-convert:hover {\n",
              "      background-color: #434B5C;\n",
              "      box-shadow: 0px 1px 3px 1px rgba(0, 0, 0, 0.15);\n",
              "      filter: drop-shadow(0px 1px 2px rgba(0, 0, 0, 0.3));\n",
              "      fill: #FFFFFF;\n",
              "    }\n",
              "  </style>\n",
              "\n",
              "    <script>\n",
              "      const buttonEl =\n",
              "        document.querySelector('#df-8298b4a2-b225-45f8-b4f7-db6533268680 button.colab-df-convert');\n",
              "      buttonEl.style.display =\n",
              "        google.colab.kernel.accessAllowed ? 'block' : 'none';\n",
              "\n",
              "      async function convertToInteractive(key) {\n",
              "        const element = document.querySelector('#df-8298b4a2-b225-45f8-b4f7-db6533268680');\n",
              "        const dataTable =\n",
              "          await google.colab.kernel.invokeFunction('convertToInteractive',\n",
              "                                                    [key], {});\n",
              "        if (!dataTable) return;\n",
              "\n",
              "        const docLinkHtml = 'Like what you see? Visit the ' +\n",
              "          '<a target=\"_blank\" href=https://colab.research.google.com/notebooks/data_table.ipynb>data table notebook</a>'\n",
              "          + ' to learn more about interactive tables.';\n",
              "        element.innerHTML = '';\n",
              "        dataTable['output_type'] = 'display_data';\n",
              "        await google.colab.output.renderOutput(dataTable, element);\n",
              "        const docLink = document.createElement('div');\n",
              "        docLink.innerHTML = docLinkHtml;\n",
              "        element.appendChild(docLink);\n",
              "      }\n",
              "    </script>\n",
              "  </div>\n",
              "\n",
              "\n",
              "<div id=\"df-44de37d7-13c3-445b-b29b-9b3803f0a5f9\">\n",
              "  <button class=\"colab-df-quickchart\" onclick=\"quickchart('df-44de37d7-13c3-445b-b29b-9b3803f0a5f9')\"\n",
              "            title=\"Suggest charts\"\n",
              "            style=\"display:none;\">\n",
              "\n",
              "<svg xmlns=\"http://www.w3.org/2000/svg\" height=\"24px\"viewBox=\"0 0 24 24\"\n",
              "     width=\"24px\">\n",
              "    <g>\n",
              "        <path d=\"M19 3H5c-1.1 0-2 .9-2 2v14c0 1.1.9 2 2 2h14c1.1 0 2-.9 2-2V5c0-1.1-.9-2-2-2zM9 17H7v-7h2v7zm4 0h-2V7h2v10zm4 0h-2v-4h2v4z\"/>\n",
              "    </g>\n",
              "</svg>\n",
              "  </button>\n",
              "\n",
              "<style>\n",
              "  .colab-df-quickchart {\n",
              "      --bg-color: #E8F0FE;\n",
              "      --fill-color: #1967D2;\n",
              "      --hover-bg-color: #E2EBFA;\n",
              "      --hover-fill-color: #174EA6;\n",
              "      --disabled-fill-color: #AAA;\n",
              "      --disabled-bg-color: #DDD;\n",
              "  }\n",
              "\n",
              "  [theme=dark] .colab-df-quickchart {\n",
              "      --bg-color: #3B4455;\n",
              "      --fill-color: #D2E3FC;\n",
              "      --hover-bg-color: #434B5C;\n",
              "      --hover-fill-color: #FFFFFF;\n",
              "      --disabled-bg-color: #3B4455;\n",
              "      --disabled-fill-color: #666;\n",
              "  }\n",
              "\n",
              "  .colab-df-quickchart {\n",
              "    background-color: var(--bg-color);\n",
              "    border: none;\n",
              "    border-radius: 50%;\n",
              "    cursor: pointer;\n",
              "    display: none;\n",
              "    fill: var(--fill-color);\n",
              "    height: 32px;\n",
              "    padding: 0;\n",
              "    width: 32px;\n",
              "  }\n",
              "\n",
              "  .colab-df-quickchart:hover {\n",
              "    background-color: var(--hover-bg-color);\n",
              "    box-shadow: 0 1px 2px rgba(60, 64, 67, 0.3), 0 1px 3px 1px rgba(60, 64, 67, 0.15);\n",
              "    fill: var(--button-hover-fill-color);\n",
              "  }\n",
              "\n",
              "  .colab-df-quickchart-complete:disabled,\n",
              "  .colab-df-quickchart-complete:disabled:hover {\n",
              "    background-color: var(--disabled-bg-color);\n",
              "    fill: var(--disabled-fill-color);\n",
              "    box-shadow: none;\n",
              "  }\n",
              "\n",
              "  .colab-df-spinner {\n",
              "    border: 2px solid var(--fill-color);\n",
              "    border-color: transparent;\n",
              "    border-bottom-color: var(--fill-color);\n",
              "    animation:\n",
              "      spin 1s steps(1) infinite;\n",
              "  }\n",
              "\n",
              "  @keyframes spin {\n",
              "    0% {\n",
              "      border-color: transparent;\n",
              "      border-bottom-color: var(--fill-color);\n",
              "      border-left-color: var(--fill-color);\n",
              "    }\n",
              "    20% {\n",
              "      border-color: transparent;\n",
              "      border-left-color: var(--fill-color);\n",
              "      border-top-color: var(--fill-color);\n",
              "    }\n",
              "    30% {\n",
              "      border-color: transparent;\n",
              "      border-left-color: var(--fill-color);\n",
              "      border-top-color: var(--fill-color);\n",
              "      border-right-color: var(--fill-color);\n",
              "    }\n",
              "    40% {\n",
              "      border-color: transparent;\n",
              "      border-right-color: var(--fill-color);\n",
              "      border-top-color: var(--fill-color);\n",
              "    }\n",
              "    60% {\n",
              "      border-color: transparent;\n",
              "      border-right-color: var(--fill-color);\n",
              "    }\n",
              "    80% {\n",
              "      border-color: transparent;\n",
              "      border-right-color: var(--fill-color);\n",
              "      border-bottom-color: var(--fill-color);\n",
              "    }\n",
              "    90% {\n",
              "      border-color: transparent;\n",
              "      border-bottom-color: var(--fill-color);\n",
              "    }\n",
              "  }\n",
              "</style>\n",
              "\n",
              "  <script>\n",
              "    async function quickchart(key) {\n",
              "      const quickchartButtonEl =\n",
              "        document.querySelector('#' + key + ' button');\n",
              "      quickchartButtonEl.disabled = true;  // To prevent multiple clicks.\n",
              "      quickchartButtonEl.classList.add('colab-df-spinner');\n",
              "      try {\n",
              "        const charts = await google.colab.kernel.invokeFunction(\n",
              "            'suggestCharts', [key], {});\n",
              "      } catch (error) {\n",
              "        console.error('Error during call to suggestCharts:', error);\n",
              "      }\n",
              "      quickchartButtonEl.classList.remove('colab-df-spinner');\n",
              "      quickchartButtonEl.classList.add('colab-df-quickchart-complete');\n",
              "    }\n",
              "    (() => {\n",
              "      let quickchartButtonEl =\n",
              "        document.querySelector('#df-44de37d7-13c3-445b-b29b-9b3803f0a5f9 button');\n",
              "      quickchartButtonEl.style.display =\n",
              "        google.colab.kernel.accessAllowed ? 'block' : 'none';\n",
              "    })();\n",
              "  </script>\n",
              "</div>\n",
              "    </div>\n",
              "  </div>\n"
            ],
            "text/plain": [
              "                                                   tweet  sarcastic\n",
              "0      The only thing I got from college is a caffein...          1\n",
              "1      I love it when professors draw a big question ...          1\n",
              "2      Remember the hundred emails from companies whe...          1\n",
              "3      Today my pop-pop told me I was not “forced” to...          1\n",
              "4      @VolphanCarol @littlewhitty @mysticalmanatee I...          1\n",
              "...                                                  ...        ...\n",
              "47606  Jeff Atwood: Learning to code is overrated htt...          0\n",
              "47607  Iraq defends intelligence sharing with Russia,...          0\n",
              "47608  #Lab15 session on the role of #AI #data #machi...          0\n",
              "47609  #DragonsDen #FunPalace last school #workshop t...          0\n",
              "47610  Moi University ordered to close law school htt...          0\n",
              "\n",
              "[47611 rows x 2 columns]"
            ]
          },
          "execution_count": 5,
          "metadata": {},
          "output_type": "execute_result"
        }
      ],
      "source": [
        "df=pd.read_csv(\"/content/drive/MyDrive/Train_Test_Combined_Dataset_tweets_git.csv\")\n",
        "df"
      ]
    },
    {
      "cell_type": "code",
      "execution_count": null,
      "metadata": {
        "id": "Pz8FFDrs4fHv"
      },
      "outputs": [],
      "source": [
        "# sarcastic=[]\n",
        "# df['star_rating']=df['star_rating']\n",
        "\n",
        "# for i in df['star_rating']:\n",
        "#   if (i==1):\n",
        "#     sarcastic.append(0)\n",
        "#   elif (i==5):\n",
        "#     sarcastic.append(1)\n",
        "\n",
        "\n",
        "# print(sarcastic[:100])"
      ]
    },
    {
      "cell_type": "code",
      "execution_count": null,
      "metadata": {
        "id": "CeBy5lGzdfbm"
      },
      "outputs": [],
      "source": [
        "# sarcastic_df = pd.DataFrame(sarcastic, columns=['sarcastic']).astype(int)\n",
        "# df['sarcastic'] = sarcastic_df"
      ]
    },
    {
      "cell_type": "code",
      "execution_count": null,
      "metadata": {
        "colab": {
          "base_uri": "https://localhost:8080/"
        },
        "id": "Tw7axTP4frk9",
        "outputId": "0086d7e6-0963-4475-f59e-e464403bdc77"
      },
      "outputs": [
        {
          "data": {
            "text/plain": [
              "0        1\n",
              "1        1\n",
              "2        1\n",
              "3        1\n",
              "4        1\n",
              "        ..\n",
              "47606    0\n",
              "47607    0\n",
              "47608    0\n",
              "47609    0\n",
              "47610    0\n",
              "Name: sarcastic, Length: 47611, dtype: int64"
            ]
          },
          "execution_count": 8,
          "metadata": {},
          "output_type": "execute_result"
        }
      ],
      "source": [
        "df['sarcastic']"
      ]
    },
    {
      "cell_type": "code",
      "execution_count": null,
      "metadata": {
        "id": "nNqj1H3t2Q-b"
      },
      "outputs": [],
      "source": [
        "class_counts = df['sarcastic'].value_counts()\n",
        "\n",
        "# Calculate the maximum number of samples among all classes\n",
        "max_count = class_counts.min()\n",
        "\n",
        "# Create a DataFrame to store balanced data\n",
        "balanced_df = pd.DataFrame(columns=['tweet', 'sarcastic'])\n",
        "\n",
        "# Iterate over each class\n",
        "for sarcastic, count in class_counts.items():\n",
        "    # If the class count is greater than the maximum count, remove extra samples randomly\n",
        "    if count > max_count:\n",
        "        # Randomly sample rows to keep only the required number of samples\n",
        "        sampled_rows = df[df['sarcastic'] == sarcastic].sample(n=max_count, random_state=42)\n",
        "        # Append the sampled rows to the balanced DataFrame\n",
        "        balanced_df = pd.concat([balanced_df,sampled_rows])\n",
        "    else:\n",
        "        # If the class count is not greater than the maximum count, keep all samples for that class\n",
        "        balanced_df = pd.concat([balanced_df,df[df['sarcastic'] == sarcastic]])\n",
        "\n",
        "# Shuffle the balanced DataFrame\n",
        "balanced_df = balanced_df.sample(frac=1, random_state=42).reset_index(drop=True)\n"
      ]
    },
    {
      "cell_type": "code",
      "execution_count": null,
      "metadata": {
        "colab": {
          "base_uri": "https://localhost:8080/"
        },
        "id": "wCVbmr49gmmw",
        "outputId": "00d70b4a-fa34-4aa5-cf6b-df5c35b1063c"
      },
      "outputs": [
        {
          "data": {
            "text/plain": [
              "sarcastic\n",
              "1    22615\n",
              "0    22615\n",
              "Name: count, dtype: int64"
            ]
          },
          "execution_count": 10,
          "metadata": {},
          "output_type": "execute_result"
        }
      ],
      "source": [
        "balanced_df.sarcastic.value_counts()"
      ]
    },
    {
      "cell_type": "code",
      "execution_count": null,
      "metadata": {
        "colab": {
          "base_uri": "https://localhost:8080/"
        },
        "id": "7DiXJ4BF4OjC",
        "outputId": "7e3611c5-7ddd-4d4e-b0fb-a98a54890615"
      },
      "outputs": [
        {
          "name": "stdout",
          "output_type": "stream",
          "text": [
            "Requirement already satisfied: nxviz in /usr/local/lib/python3.10/dist-packages (0.7.4)\n",
            "Requirement already satisfied: matplotlib>=3.3.3 in /usr/local/lib/python3.10/dist-packages (from nxviz) (3.7.1)\n",
            "Requirement already satisfied: more-itertools>=8.6.0 in /usr/local/lib/python3.10/dist-packages (from nxviz) (10.1.0)\n",
            "Requirement already satisfied: networkx>=2.5 in /usr/local/lib/python3.10/dist-packages (from nxviz) (3.3)\n",
            "Requirement already satisfied: numpy>=1.19.4 in /usr/local/lib/python3.10/dist-packages (from nxviz) (1.25.2)\n",
            "Requirement already satisfied: palettable>=3.3.0 in /usr/local/lib/python3.10/dist-packages (from nxviz) (3.3.3)\n",
            "Requirement already satisfied: pandas>=1.2.0 in /usr/local/lib/python3.10/dist-packages (from nxviz) (2.0.3)\n",
            "Requirement already satisfied: seaborn>=0.11.1 in /usr/local/lib/python3.10/dist-packages (from nxviz) (0.13.1)\n",
            "Requirement already satisfied: contourpy>=1.0.1 in /usr/local/lib/python3.10/dist-packages (from matplotlib>=3.3.3->nxviz) (1.2.1)\n",
            "Requirement already satisfied: cycler>=0.10 in /usr/local/lib/python3.10/dist-packages (from matplotlib>=3.3.3->nxviz) (0.12.1)\n",
            "Requirement already satisfied: fonttools>=4.22.0 in /usr/local/lib/python3.10/dist-packages (from matplotlib>=3.3.3->nxviz) (4.51.0)\n",
            "Requirement already satisfied: kiwisolver>=1.0.1 in /usr/local/lib/python3.10/dist-packages (from matplotlib>=3.3.3->nxviz) (1.4.5)\n",
            "Requirement already satisfied: packaging>=20.0 in /usr/local/lib/python3.10/dist-packages (from matplotlib>=3.3.3->nxviz) (24.0)\n",
            "Requirement already satisfied: pillow>=6.2.0 in /usr/local/lib/python3.10/dist-packages (from matplotlib>=3.3.3->nxviz) (9.4.0)\n",
            "Requirement already satisfied: pyparsing>=2.3.1 in /usr/local/lib/python3.10/dist-packages (from matplotlib>=3.3.3->nxviz) (3.1.2)\n",
            "Requirement already satisfied: python-dateutil>=2.7 in /usr/local/lib/python3.10/dist-packages (from matplotlib>=3.3.3->nxviz) (2.8.2)\n",
            "Requirement already satisfied: pytz>=2020.1 in /usr/local/lib/python3.10/dist-packages (from pandas>=1.2.0->nxviz) (2023.4)\n",
            "Requirement already satisfied: tzdata>=2022.1 in /usr/local/lib/python3.10/dist-packages (from pandas>=1.2.0->nxviz) (2024.1)\n",
            "Requirement already satisfied: six>=1.5 in /usr/local/lib/python3.10/dist-packages (from python-dateutil>=2.7->matplotlib>=3.3.3->nxviz) (1.16.0)\n"
          ]
        }
      ],
      "source": [
        "!pip install nxviz"
      ]
    },
    {
      "cell_type": "markdown",
      "metadata": {
        "id": "sysAtyUFjRYb"
      },
      "source": [
        "# Modeling\n",
        "\n",
        "In this step we will build, train and compare the following algorithms:\n",
        "\n",
        "- RoBERTa (Robustly Optimized BERT Pre-training Approach)\n"
      ]
    },
    {
      "cell_type": "code",
      "execution_count": null,
      "metadata": {
        "id": "zRrtsY01On1J"
      },
      "outputs": [],
      "source": []
    },
    {
      "cell_type": "code",
      "execution_count": null,
      "metadata": {
        "id": "rT0Pqd62ieJq"
      },
      "outputs": [],
      "source": [
        "data = balanced_df[['tweet', 'sarcastic']]\n",
        "\n",
        "# Set your model output as categorical and save in new label col\n",
        "data['sarcastic_label'] = pd.Categorical(data['sarcastic'])\n",
        "\n",
        "# Transform your output to numeric\n",
        "data['sarcastic'] = data['sarcastic_label'].cat.codes"
      ]
    },
    {
      "cell_type": "markdown",
      "metadata": {
        "id": "eKNkFPEproAx"
      },
      "source": [
        "Split into train and validation set, as the file contains more than 150 thousand instances we can consider only a small portion of it as validation and still the number is relatively long, because of this we will set the test_size to 10% as follows:"
      ]
    },
    {
      "cell_type": "code",
      "execution_count": null,
      "metadata": {
        "id": "bdNSiORernck"
      },
      "outputs": [],
      "source": [
        "data_train, data_val = train_test_split(data, test_size = 0.2)\n",
        "#data_train, data_val, y_train, y_test = train_test_split(data, test_size=0.3, random_state=0, stratify=Severity)\n"
      ]
    },
    {
      "cell_type": "code",
      "execution_count": null,
      "metadata": {
        "colab": {
          "base_uri": "https://localhost:8080/"
        },
        "id": "eXthVyDCmQc5",
        "outputId": "739fb932-c6b5-4c69-a1c1-c8186d94daee"
      },
      "outputs": [
        {
          "data": {
            "text/plain": [
              "sarcastic\n",
              "1    18114\n",
              "0    18070\n",
              "Name: count, dtype: int64"
            ]
          },
          "execution_count": 14,
          "metadata": {},
          "output_type": "execute_result"
        }
      ],
      "source": [
        "data_train.sarcastic.value_counts()"
      ]
    },
    {
      "cell_type": "code",
      "execution_count": null,
      "metadata": {
        "colab": {
          "base_uri": "https://localhost:8080/"
        },
        "id": "S1P7o6Ijmkqh",
        "outputId": "ab9b22be-4a0a-41e0-fc85-104a75faeeb0"
      },
      "outputs": [
        {
          "data": {
            "text/plain": [
              "sarcastic\n",
              "0    4545\n",
              "1    4501\n",
              "Name: count, dtype: int64"
            ]
          },
          "execution_count": 15,
          "metadata": {},
          "output_type": "execute_result"
        }
      ],
      "source": [
        "data_val.sarcastic.value_counts()"
      ]
    },
    {
      "cell_type": "code",
      "execution_count": null,
      "metadata": {
        "id": "kJk3_UG4KTcT"
      },
      "outputs": [],
      "source": [
        "es = EarlyStopping(patience=5, monitor='val_accuracy', restore_best_weights=True)"
      ]
    },
    {
      "cell_type": "code",
      "execution_count": null,
      "metadata": {
        "id": "Wckalw0JPRJl"
      },
      "outputs": [],
      "source": [
        "#y_test_array =pd.get_dummies(y_val_actual_max, drop_first=False).values #np.asarray(y_val_actual_max)\n",
        "\n",
        "#y_score = np.asarray(y_val_pred_max)"
      ]
    },
    {
      "cell_type": "markdown",
      "metadata": {
        "id": "l0YjTXk0A1nJ"
      },
      "source": [
        "# RoBERTa"
      ]
    },
    {
      "cell_type": "code",
      "execution_count": null,
      "metadata": {
        "colab": {
          "base_uri": "https://localhost:8080/",
          "height": 36
        },
        "id": "_LUueW84EUfb",
        "outputId": "823288ae-c828-4401-efd8-d680699dd30e"
      },
      "outputs": [
        {
          "data": {
            "application/vnd.google.colaboratory.intrinsic+json": {
              "type": "string"
            },
            "text/plain": [
              "'4.35.0'"
            ]
          },
          "execution_count": 18,
          "metadata": {},
          "output_type": "execute_result"
        }
      ],
      "source": [
        "import transformers\n",
        "transformers.__version__"
      ]
    },
    {
      "cell_type": "code",
      "execution_count": null,
      "metadata": {
        "colab": {
          "base_uri": "https://localhost:8080/"
        },
        "id": "FxSmZrNKEPls",
        "outputId": "f6ef3aad-3baa-442c-a9b4-1608c2208e33"
      },
      "outputs": [
        {
          "name": "stdout",
          "output_type": "stream",
          "text": [
            "Requirement already satisfied: transformers==4.35.0 in /usr/local/lib/python3.10/dist-packages (4.35.0)\n",
            "Requirement already satisfied: filelock in /usr/local/lib/python3.10/dist-packages (from transformers==4.35.0) (3.13.4)\n",
            "Requirement already satisfied: huggingface-hub<1.0,>=0.16.4 in /usr/local/lib/python3.10/dist-packages (from transformers==4.35.0) (0.17.3)\n",
            "Requirement already satisfied: numpy>=1.17 in /usr/local/lib/python3.10/dist-packages (from transformers==4.35.0) (1.25.2)\n",
            "Requirement already satisfied: packaging>=20.0 in /usr/local/lib/python3.10/dist-packages (from transformers==4.35.0) (24.0)\n",
            "Requirement already satisfied: pyyaml>=5.1 in /usr/local/lib/python3.10/dist-packages (from transformers==4.35.0) (6.0.1)\n",
            "Requirement already satisfied: regex!=2019.12.17 in /usr/local/lib/python3.10/dist-packages (from transformers==4.35.0) (2023.12.25)\n",
            "Requirement already satisfied: requests in /usr/local/lib/python3.10/dist-packages (from transformers==4.35.0) (2.31.0)\n",
            "Requirement already satisfied: tokenizers<0.15,>=0.14 in /usr/local/lib/python3.10/dist-packages (from transformers==4.35.0) (0.14.1)\n",
            "Requirement already satisfied: safetensors>=0.3.1 in /usr/local/lib/python3.10/dist-packages (from transformers==4.35.0) (0.4.3)\n",
            "Requirement already satisfied: tqdm>=4.27 in /usr/local/lib/python3.10/dist-packages (from transformers==4.35.0) (4.66.2)\n",
            "Requirement already satisfied: fsspec in /usr/local/lib/python3.10/dist-packages (from huggingface-hub<1.0,>=0.16.4->transformers==4.35.0) (2023.6.0)\n",
            "Requirement already satisfied: typing-extensions>=3.7.4.3 in /usr/local/lib/python3.10/dist-packages (from huggingface-hub<1.0,>=0.16.4->transformers==4.35.0) (4.11.0)\n",
            "Requirement already satisfied: charset-normalizer<4,>=2 in /usr/local/lib/python3.10/dist-packages (from requests->transformers==4.35.0) (3.3.2)\n",
            "Requirement already satisfied: idna<4,>=2.5 in /usr/local/lib/python3.10/dist-packages (from requests->transformers==4.35.0) (3.7)\n",
            "Requirement already satisfied: urllib3<3,>=1.21.1 in /usr/local/lib/python3.10/dist-packages (from requests->transformers==4.35.0) (2.0.7)\n",
            "Requirement already satisfied: certifi>=2017.4.17 in /usr/local/lib/python3.10/dist-packages (from requests->transformers==4.35.0) (2024.2.2)\n"
          ]
        }
      ],
      "source": [
        "!pip install transformers==4.35.0"
      ]
    },
    {
      "cell_type": "code",
      "execution_count": null,
      "metadata": {
        "colab": {
          "base_uri": "https://localhost:8080/",
          "height": 36
        },
        "id": "zrWK-gnXEfBu",
        "outputId": "3c220ca8-76a4-4e85-ce9b-15749eb67af8"
      },
      "outputs": [
        {
          "data": {
            "application/vnd.google.colaboratory.intrinsic+json": {
              "type": "string"
            },
            "text/plain": [
              "'4.35.0'"
            ]
          },
          "execution_count": 20,
          "metadata": {},
          "output_type": "execute_result"
        }
      ],
      "source": [
        "transformers.__version__"
      ]
    },
    {
      "cell_type": "code",
      "execution_count": null,
      "metadata": {
        "id": "QUjTAPOD1qdV"
      },
      "outputs": [],
      "source": [
        "from transformers import RobertaTokenizer, TFRobertaModel, RobertaConfig"
      ]
    },
    {
      "cell_type": "code",
      "execution_count": null,
      "metadata": {
        "colab": {
          "base_uri": "https://localhost:8080/"
        },
        "id": "3xfOae3K3PK6",
        "outputId": "5cb79415-d3b4-4cd0-e24a-48748ee91253"
      },
      "outputs": [
        {
          "name": "stderr",
          "output_type": "stream",
          "text": [
            "Some weights of the PyTorch model were not used when initializing the TF 2.0 model TFRobertaModel: ['lm_head.layer_norm.bias', 'lm_head.layer_norm.weight', 'lm_head.dense.bias', 'roberta.embeddings.position_ids', 'lm_head.bias', 'lm_head.dense.weight']\n",
            "- This IS expected if you are initializing TFRobertaModel from a PyTorch model trained on another task or with another architecture (e.g. initializing a TFBertForSequenceClassification model from a BertForPreTraining model).\n",
            "- This IS NOT expected if you are initializing TFRobertaModel from a PyTorch model that you expect to be exactly identical (e.g. initializing a TFBertForSequenceClassification model from a BertForSequenceClassification model).\n",
            "Some weights or buffers of the TF 2.0 model TFRobertaModel were not initialized from the PyTorch model and are newly initialized: ['roberta.pooler.dense.weight', 'roberta.pooler.dense.bias']\n",
            "You should probably TRAIN this model on a down-stream task to be able to use it for predictions and inference.\n"
          ]
        }
      ],
      "source": [
        "### --------- Setup Roberta ---------- ###\n",
        "\n",
        "model_name = 'roberta-base'\n",
        "\n",
        "# Max length of tokens\n",
        "max_length = 40\n",
        "\n",
        "# Load transformers config and set output_hidden_states to False\n",
        "config = RobertaConfig.from_pretrained(model_name)\n",
        "config.output_hidden_states = False\n",
        "\n",
        "# Load Roberta tokenizer\n",
        "tokenizer = RobertaTokenizer.from_pretrained(pretrained_model_name_or_path = model_name, config = config)\n",
        "\n",
        "# Load the Roberta model\n",
        "transformer_roberta_model = TFRobertaModel.from_pretrained(model_name, config = config)"
      ]
    },
    {
      "cell_type": "code",
      "execution_count": null,
      "metadata": {
        "colab": {
          "base_uri": "https://localhost:8080/"
        },
        "id": "hTC7Bvgl3PK8",
        "outputId": "e092ceb0-e82f-4ae7-f3fd-4060d01fd823"
      },
      "outputs": [
        {
          "name": "stdout",
          "output_type": "stream",
          "text": [
            "Model: \"RoBERTa_MultiClass\"\n",
            "_________________________________________________________________\n",
            " Layer (type)                Output Shape              Param #   \n",
            "=================================================================\n",
            " input_ids (InputLayer)      [(None, 40)]              0         \n",
            "                                                                 \n",
            " roberta (TFRobertaMainLaye  TFBaseModelOutputWithPo   124645632 \n",
            " r)                          olingAndCrossAttentions             \n",
            "                             (last_hidden_state=(Non             \n",
            "                             e, 40, 768),                        \n",
            "                              pooler_output=(None, 7             \n",
            "                             68),                                \n",
            "                              past_key_values=None,              \n",
            "                             hidden_states=None, att             \n",
            "                             entions=None, cross_att             \n",
            "                             entions=None)                       \n",
            "                                                                 \n",
            " pooled_output (Dropout)     (None, 768)               0         \n",
            "                                                                 \n",
            " sarcastic (Dense)           (None, 2)                 1538      \n",
            "                                                                 \n",
            "=================================================================\n",
            "Total params: 124647170 (475.49 MB)\n",
            "Trainable params: 124647170 (475.49 MB)\n",
            "Non-trainable params: 0 (0.00 Byte)\n",
            "_________________________________________________________________\n"
          ]
        }
      ],
      "source": [
        "### ------- Build the model ------- ###\n",
        "\n",
        "# Load the MainLayer\n",
        "roberta = transformer_roberta_model.layers[0]\n",
        "\n",
        "# Build your model input\n",
        "input_ids = Input(shape=(max_length,), name='input_ids', dtype='int32')\n",
        "inputs = {'input_ids': input_ids}\n",
        "\n",
        "# Load the Transformers RoBERTa model as a layer in a Keras model\n",
        "roberta_model = roberta(inputs)[1]\n",
        "dropout = Dropout(config.hidden_dropout_prob, name='pooled_output')\n",
        "pooled_output = dropout(roberta_model, training=False)\n",
        "\n",
        "# Then build your model output\n",
        "sarcastics = Dense(units=len(data_train.sarcastic_label.value_counts()), kernel_initializer=TruncatedNormal(stddev=config.initializer_range), name='sarcastic')(pooled_output)\n",
        "outputs = {'sarcastic': sarcastics}\n",
        "\n",
        "# And combine it all in a model object\n",
        "Robsent = Model(inputs=inputs, outputs=outputs, name='RoBERTa_MultiClass')\n",
        "\n",
        "# Take a look at the model\n",
        "Robsent.summary()"
      ]
    },
    {
      "cell_type": "code",
      "execution_count": null,
      "metadata": {
        "colab": {
          "base_uri": "https://localhost:8080/"
        },
        "id": "HwZxHwoJ3PK-",
        "outputId": "b82b03ca-12df-46b2-d42e-d8613c0e8143"
      },
      "outputs": [
        {
          "name": "stdout",
          "output_type": "stream",
          "text": [
            "Epoch 1/100\n",
            "566/566 [==============================] - 365s 586ms/step - loss: 0.1457 - accuracy: 0.9333 - val_loss: 0.1084 - val_accuracy: 0.9506\n",
            "Epoch 2/100\n",
            "566/566 [==============================] - 342s 605ms/step - loss: 0.0978 - accuracy: 0.9564 - val_loss: 0.1006 - val_accuracy: 0.9550\n",
            "Epoch 3/100\n",
            "566/566 [==============================] - 343s 606ms/step - loss: 0.0796 - accuracy: 0.9654 - val_loss: 0.1055 - val_accuracy: 0.9553\n",
            "Epoch 4/100\n",
            "566/566 [==============================] - 326s 576ms/step - loss: 0.0663 - accuracy: 0.9710 - val_loss: 0.1094 - val_accuracy: 0.9558\n",
            "Epoch 5/100\n",
            "566/566 [==============================] - 324s 573ms/step - loss: 0.0552 - accuracy: 0.9777 - val_loss: 0.1151 - val_accuracy: 0.9578\n",
            "Epoch 6/100\n",
            "566/566 [==============================] - 324s 572ms/step - loss: 0.0465 - accuracy: 0.9808 - val_loss: 0.1182 - val_accuracy: 0.9559\n",
            "Epoch 7/100\n",
            "566/566 [==============================] - 340s 601ms/step - loss: 0.0422 - accuracy: 0.9822 - val_loss: 0.1233 - val_accuracy: 0.9551\n",
            "Epoch 8/100\n",
            "566/566 [==============================] - 338s 598ms/step - loss: 0.0380 - accuracy: 0.9842 - val_loss: 0.1321 - val_accuracy: 0.9588\n",
            "Epoch 9/100\n",
            "566/566 [==============================] - 337s 596ms/step - loss: 0.0337 - accuracy: 0.9868 - val_loss: 0.1330 - val_accuracy: 0.9591\n",
            "Epoch 10/100\n",
            "566/566 [==============================] - 337s 596ms/step - loss: 0.0319 - accuracy: 0.9880 - val_loss: 0.1321 - val_accuracy: 0.9581\n",
            "Epoch 11/100\n",
            "566/566 [==============================] - 338s 597ms/step - loss: 0.0277 - accuracy: 0.9895 - val_loss: 0.1363 - val_accuracy: 0.9597\n",
            "Epoch 12/100\n",
            "566/566 [==============================] - 338s 598ms/step - loss: 0.0260 - accuracy: 0.9899 - val_loss: 0.1372 - val_accuracy: 0.9600\n",
            "Epoch 13/100\n",
            "566/566 [==============================] - 342s 604ms/step - loss: 0.0249 - accuracy: 0.9907 - val_loss: 0.1383 - val_accuracy: 0.9590\n",
            "Epoch 14/100\n",
            "566/566 [==============================] - 342s 604ms/step - loss: 0.0220 - accuracy: 0.9919 - val_loss: 0.1416 - val_accuracy: 0.9600\n",
            "Epoch 15/100\n",
            "566/566 [==============================] - 339s 600ms/step - loss: 0.0214 - accuracy: 0.9922 - val_loss: 0.1501 - val_accuracy: 0.9603\n",
            "Epoch 16/100\n",
            "566/566 [==============================] - 337s 596ms/step - loss: 0.0203 - accuracy: 0.9924 - val_loss: 0.1502 - val_accuracy: 0.9600\n",
            "Epoch 17/100\n",
            "566/566 [==============================] - 338s 597ms/step - loss: 0.0207 - accuracy: 0.9927 - val_loss: 0.1510 - val_accuracy: 0.9606\n",
            "Epoch 18/100\n",
            "566/566 [==============================] - 337s 595ms/step - loss: 0.0182 - accuracy: 0.9931 - val_loss: 0.1488 - val_accuracy: 0.9601\n",
            "Epoch 19/100\n",
            "566/566 [==============================] - 337s 595ms/step - loss: 0.0161 - accuracy: 0.9943 - val_loss: 0.1564 - val_accuracy: 0.9603\n",
            "Epoch 20/100\n",
            "566/566 [==============================] - 338s 596ms/step - loss: 0.0168 - accuracy: 0.9939 - val_loss: 0.1547 - val_accuracy: 0.9612\n",
            "Epoch 21/100\n",
            "566/566 [==============================] - 338s 597ms/step - loss: 0.0157 - accuracy: 0.9941 - val_loss: 0.1568 - val_accuracy: 0.9606\n",
            "Epoch 22/100\n",
            "566/566 [==============================] - 339s 599ms/step - loss: 0.0142 - accuracy: 0.9949 - val_loss: 0.1595 - val_accuracy: 0.9608\n",
            "Epoch 23/100\n",
            "566/566 [==============================] - 343s 605ms/step - loss: 0.0150 - accuracy: 0.9948 - val_loss: 0.1621 - val_accuracy: 0.9616\n",
            "Epoch 24/100\n",
            "566/566 [==============================] - 342s 604ms/step - loss: 0.0146 - accuracy: 0.9943 - val_loss: 0.1570 - val_accuracy: 0.9608\n",
            "Epoch 25/100\n",
            "566/566 [==============================] - 342s 605ms/step - loss: 0.0134 - accuracy: 0.9952 - val_loss: 0.1625 - val_accuracy: 0.9612\n",
            "Epoch 26/100\n",
            "566/566 [==============================] - 338s 598ms/step - loss: 0.0135 - accuracy: 0.9950 - val_loss: 0.1586 - val_accuracy: 0.9608\n",
            "Epoch 27/100\n",
            "566/566 [==============================] - 321s 567ms/step - loss: 0.0118 - accuracy: 0.9954 - val_loss: 0.1675 - val_accuracy: 0.9613\n",
            "Epoch 28/100\n",
            "566/566 [==============================] - 340s 601ms/step - loss: 0.0120 - accuracy: 0.9957 - val_loss: 0.1659 - val_accuracy: 0.9611\n"
          ]
        }
      ],
      "source": [
        "### ------- Train the model ------- ###\n",
        "\n",
        "# Set an optimizer\n",
        "optimizer = tf.keras.optimizers.legacy.Adam(learning_rate=5e-05,epsilon=1e-08,decay=0.01,clipnorm=1.0)\n",
        "\n",
        "# Set loss and metrics\n",
        "loss = {'sarcastic': CategoricalCrossentropy(from_logits = True)}\n",
        "\n",
        "# Compile the model\n",
        "Robsent.compile(optimizer = optimizer, loss = loss, metrics = ['accuracy'])\n",
        "\n",
        "# Ready output data for the model\n",
        "y_train = to_categorical(data_train['sarcastic'])\n",
        "\n",
        "# Tokenize the input (takes some time)\n",
        "x_train = tokenizer(\n",
        "          text=data_train['tweet'].to_list(),\n",
        "          add_special_tokens=True,\n",
        "          max_length=max_length,\n",
        "          truncation=True,\n",
        "          padding=True,\n",
        "          return_tensors='tf',\n",
        "          return_token_type_ids = False,\n",
        "          return_attention_mask = True,\n",
        "          verbose = True)\n",
        "\n",
        "y_val = to_categorical(data_val['sarcastic'])\n",
        "\n",
        "x_val = tokenizer(\n",
        "          text=data_val['tweet'].to_list(),\n",
        "          add_special_tokens=True,\n",
        "          max_length=max_length,\n",
        "          truncation=True,\n",
        "          padding=True,\n",
        "          return_tensors='tf',\n",
        "          return_token_type_ids = False,\n",
        "          return_attention_mask = True,\n",
        "          verbose = True)\n",
        "\n",
        "# Fit the model\n",
        "history = Robsent.fit(\n",
        "    x={'input_ids': x_train['input_ids']},\n",
        "    y={'sarcastic': y_train},\n",
        "    validation_data=({'input_ids': x_val['input_ids']},{'sarcastic': y_val}),\n",
        "    batch_size=64,\n",
        "    epochs=100,\n",
        "    verbose=1,callbacks=[es])"
      ]
    },
    {
      "cell_type": "markdown",
      "metadata": {
        "id": "zaoTBh7-A5Dc"
      },
      "source": [
        "## Evaluate on validation set:"
      ]
    },
    {
      "cell_type": "code",
      "execution_count": null,
      "metadata": {
        "colab": {
          "base_uri": "https://localhost:8080/"
        },
        "id": "62LH4Zzv_118",
        "outputId": "9c85b99b-dce4-4686-edfe-8d995399612f"
      },
      "outputs": [
        {
          "name": "stdout",
          "output_type": "stream",
          "text": [
            "283/283 [==============================] - 26s 92ms/step - loss: 0.1621 - accuracy: 0.9616\n"
          ]
        }
      ],
      "source": [
        "model_eval = Robsent.evaluate(\n",
        "    x={'input_ids': x_val['input_ids']},\n",
        "    y={'sarcastic': y_val}\n",
        ")"
      ]
    },
    {
      "cell_type": "code",
      "execution_count": null,
      "metadata": {
        "id": "NeKh59d2_119"
      },
      "outputs": [],
      "source": [
        "y_val_predicted = Robsent.predict(\n",
        "    x={'input_ids': x_val['input_ids']},\n",
        ")"
      ]
    },
    {
      "cell_type": "code",
      "execution_count": null,
      "metadata": {
        "id": "iJcMBMP6_12A"
      },
      "outputs": [],
      "source": [
        "y_val_pred_max=[np.argmax(i) for i in y_val_predicted['sarcastic']]"
      ]
    },
    {
      "cell_type": "code",
      "execution_count": null,
      "metadata": {
        "id": "YHLjhS-M_12B"
      },
      "outputs": [],
      "source": [
        "y_val_actual_max=[np.argmax(i) for i in y_val]"
      ]
    },
    {
      "cell_type": "code",
      "execution_count": null,
      "metadata": {
        "id": "o8Ku5QDSuAZy"
      },
      "outputs": [],
      "source": [
        "y_test_array =pd.get_dummies(y_val_actual_max, drop_first=False).values #np.asarray(y_val_actual_max)\n"
      ]
    },
    {
      "cell_type": "code",
      "execution_count": null,
      "metadata": {
        "colab": {
          "base_uri": "https://localhost:8080/"
        },
        "id": "RPMeeqHX_12C",
        "outputId": "b1ef4a72-c8ff-4cc3-9bf8-5326d6e82204"
      },
      "outputs": [
        {
          "name": "stdout",
          "output_type": "stream",
          "text": [
            "              precision    recall  f1-score   support\n",
            "\n",
            "           0       0.98      0.95      0.96      4674\n",
            "           1       0.95      0.98      0.96      4372\n",
            "\n",
            "    accuracy                           0.96      9046\n",
            "   macro avg       0.96      0.96      0.96      9046\n",
            "weighted avg       0.96      0.96      0.96      9046\n",
            "\n"
          ]
        }
      ],
      "source": [
        "from sklearn.metrics import classification_report\n",
        "\n",
        "report = classification_report(y_val_pred_max, y_val_actual_max)\n",
        "\n",
        "print(report)"
      ]
    },
    {
      "cell_type": "code",
      "execution_count": null,
      "metadata": {
        "colab": {
          "base_uri": "https://localhost:8080/",
          "height": 458
        },
        "id": "yaWug9n9_12D",
        "outputId": "eb26fe36-e46a-4b0e-845d-e27f416eacef"
      },
      "outputs": [
        {
          "data": {
            "image/png": "[encoded data removed]",
            "text/plain": [
              "<Figure size 640x480 with 2 Axes>"
            ]
          },
          "metadata": {},
          "output_type": "display_data"
        }
      ],
      "source": [
        "#@title\n",
        "from sklearn.metrics import confusion_matrix, ConfusionMatrixDisplay\n",
        "\n",
        "disp = ConfusionMatrixDisplay(confusion_matrix=confusion_matrix(y_val_pred_max, y_val_actual_max), display_labels=np.unique(y_val_actual_max))\n",
        "disp.plot(cmap='Blues')\n",
        "plt.grid(False)"
      ]
    },
    {
      "cell_type": "code",
      "execution_count": null,
      "metadata": {
        "id": "QyQkkds6K2SQ"
      },
      "outputs": [],
      "source": [
        "classes=[0,1]"
      ]
    },
    {
      "cell_type": "code",
      "execution_count": null,
      "metadata": {
        "colab": {
          "base_uri": "https://localhost:8080/",
          "height": 346
        },
        "id": "Xi8VH1EAkWmk",
        "outputId": "ec931f9f-f228-4f34-fd35-d9a33e4e5dae"
      },
      "outputs": [
        {
          "data": {
            "image/png": "[encoded data removed]",
            "text/plain": [
              "<Figure size 1850x500 with 2 Axes>"
            ]
          },
          "metadata": {},
          "output_type": "display_data"
        }
      ],
      "source": [
        "yv=y_val_predicted[\"sarcastic\"]\n",
        "fig, ax = plt.subplots(nrows=1, ncols=2)\n",
        "fig.set_size_inches(18.5, 5)\n",
        "## Plot roc\n",
        "for i in range(len(classes)):\n",
        "    fpr, tpr, thresholds = roc_curve(y_test_array[:,i],yv[:,i])\n",
        "    ax[0].plot(fpr, tpr, lw=3,\n",
        "              #label='{0} (area (AUC) = {1:0.2f})'.format(classes[i], metrics.auc(fpr, tpr))\n",
        "              label='{0} (area (AUC))'.format(classes[i])\n",
        "\n",
        "               )\n",
        "ax[0].plot([0,1], [0,1], color='navy', lw=3, linestyle='--')\n",
        "ax[0].set(xlim=[-0.05,1.0], ylim=[0.0,1.05],\n",
        "          xlabel='False Positive Rate',\n",
        "          ylabel=\"True Positive Rate (Recall)\",\n",
        "          title=\"Receiver operating characteristic\")\n",
        "ax[0].legend(loc=\"lower right\")\n",
        "ax[0].grid(True)\n",
        "\n",
        "## Plot precision-recall curve\n",
        "for i in range(len(classes)):\n",
        "    precision, recall, thresholds = metrics.precision_recall_curve(\n",
        "                 y_test_array[:,i], yv[:,i])\n",
        "    ax[1].plot(recall, precision, lw=3,\n",
        "               #label='{0} (area ={1:0.2f})'.format(classes[i], metrics.auc(recall, precision))\n",
        "               label='{0} (area)'.format(classes[i])\n",
        "\n",
        "              )\n",
        "ax[1].set(xlim=[0.0,1.05], ylim=[0.0,1.05], xlabel='Recall',\n",
        "          ylabel=\"Precision\", title=\"Precision-Recall curve\")\n",
        "ax[1].legend(loc=\"best\")\n",
        "ax[1].grid(True)\n",
        "plt.show()"
      ]
    }
  ],
  "metadata": {
    "accelerator": "GPU",
    "colab": {
      "gpuType": "T4",
      "provenance": [],
      "include_colab_link": true
    },
    "kernelspec": {
      "display_name": "Python 3",
      "name": "python3"
    },
    "language_info": {
      "codemirror_mode": {
        "name": "ipython",
        "version": 3
      },
      "file_extension": ".py",
      "mimetype": "text/x-python",
      "name": "python",
      "nbconvert_exporter": "python",
      "pygments_lexer": "ipython3",
      "version": "3.7.12"
    }
  },
  "nbformat": 4,
  "nbformat_minor": 0
}